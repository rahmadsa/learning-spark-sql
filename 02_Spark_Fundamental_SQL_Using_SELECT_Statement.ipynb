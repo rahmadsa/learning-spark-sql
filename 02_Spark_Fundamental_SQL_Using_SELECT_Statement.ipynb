{
  "nbformat": 4,
  "nbformat_minor": 0,
  "metadata": {
    "colab": {
      "private_outputs": true,
      "provenance": []
    },
    "kernelspec": {
      "name": "python3",
      "display_name": "Python 3"
    },
    "language_info": {
      "name": "python"
    }
  },
  "cells": [
    {
      "cell_type": "markdown",
      "metadata": {
        "id": "gg2gR15SV6Wy"
      },
      "source": [
        "\n",
        "```\n",
        "\n",
        "```\n",
        "\n"
      ]
    },
    {
      "cell_type": "markdown",
      "source": [
        "#**B.Manipulasi Data Dengan Apache Spark SQL**\n",
        "#**[SELECT & FUNCTION Statment ]**\n",
        "\n",
        "##**1. Hadoop & PySpark initialization di Google Colab**\n",
        "\n",
        "*PySpark* adalah *interface Python* untuk *Apache Spark*. Penggunaan utama *PySpark* adalah untuk bekerja dengan data dalam Bigdata dan untuk membuat pipeline data.\n",
        "\n",
        "Walaupun *Apache Spark* mendudukung Big Data, sebagai awal pembelajaran tidak perlu menggunakan data yang besar untuk mendapatkan manfaat dari PySpark. Kita bisa temukan bahwa SparkSQL adalah tools yang bagus untuk melakukan analisis data. Penggunaan library Panda menjadi lambat dengan data yang besar Sumber tentang Apache Spark http://spark.apache.org/docs/latest/api/python/\n",
        "\n"
      ],
      "metadata": {
        "id": "Gun9kIlx5fJb"
      }
    },
    {
      "cell_type": "code",
      "source": [
        "#Init Hadoop & Spark\n",
        "#=====Begin\n",
        "\n",
        "#=====End"
      ],
      "metadata": {
        "id": "Zih7v4MGfwVW"
      },
      "execution_count": null,
      "outputs": []
    },
    {
      "cell_type": "markdown",
      "source": [
        "Lakukan manipulasi data dari dataset pada tautan berikut:\n",
        "\n",
        "\"https://github.com/rahmadsa/dataset/blob/main/spark/ms_produk.csv?raw=true\"\n",
        "\n",
        "Dengan perintah - perintah SQL berikut pada platform Apache Spark SQL"
      ],
      "metadata": {
        "id": "EVz8iP8NexVj"
      }
    },
    {
      "cell_type": "markdown",
      "source": [
        "#**2. Manipulasi Data Dengan SELECT Statment**\n",
        "##**2.1. Mengambil Seluruh Kolom dalam suatu Tabel**\n",
        "\n",
        "\n",
        "```\n",
        "   select * from ms_produk;\n",
        "```"
      ],
      "metadata": {
        "id": "f10Y9Y_hik2K"
      }
    },
    {
      "cell_type": "code",
      "source": [
        "select * from ms_produk;"
      ],
      "metadata": {
        "id": "KUFoIlSlN_NB"
      },
      "execution_count": null,
      "outputs": []
    },
    {
      "cell_type": "markdown",
      "metadata": {
        "id": "T85KXmWbWi2K"
      },
      "source": [
        "##**2.2. Mengambil Satu Kolom dari Tabel**"
      ]
    },
    {
      "cell_type": "code",
      "metadata": {
        "id": "li_1-u20WsMB"
      },
      "source": [
        "select nama_produk from ms_produk;"
      ],
      "execution_count": null,
      "outputs": []
    },
    {
      "cell_type": "markdown",
      "metadata": {
        "id": "QkqC3qooWtR5"
      },
      "source": [
        "## **2.3. Mengambil Lebih dari Satu Kolom dari Tabel**\n",
        "```\n",
        "   SELECT nama_produk, harga FROM ms_produk;\n",
        "```"
      ]
    },
    {
      "cell_type": "code",
      "metadata": {
        "id": "ZFicYhsvXD_p"
      },
      "source": [
        "SELECT nama_produk, harga FROM ms_produk;"
      ],
      "execution_count": null,
      "outputs": []
    },
    {
      "cell_type": "markdown",
      "metadata": {
        "id": "um8Cvjh4XE1W"
      },
      "source": [
        "##**2.4. Membatasi Pengambilan Jumlah Row Data**\n",
        "\n",
        "```\n",
        "  SELECT nama_produk, harga FROM ms_produk LIMIT 5;\n",
        "```"
      ]
    },
    {
      "cell_type": "code",
      "metadata": {
        "id": "f9GU6oSXXS3B"
      },
      "source": [
        "SELECT nama_produk, harga FROM ms_produk LIMIT 5;"
      ],
      "execution_count": null,
      "outputs": []
    },
    {
      "cell_type": "markdown",
      "metadata": {
        "id": "upxwIKK7XTk5"
      },
      "source": [
        "##**2.5 Penggunaan SELECT DISTINCT statement**\n",
        "\n",
        "Lakukan manipulasi data dari dataset pada tautan berikut:\n",
        "\"https://github.com/rahmadsa/dataset/blob/main/spark/ms_penggan.csv\"\n",
        "dengan query sebagai berikut.\n",
        "\n",
        "```\n",
        "SELECT DISTINCT nama_customer, alamat FROM ms_pelanggan;\n",
        "```"
      ]
    },
    {
      "cell_type": "code",
      "metadata": {
        "id": "OBVsZCx8XcKu"
      },
      "source": [
        "SELECT DISTINCT nama_customer, alamat FROM ms_pelanggan;"
      ],
      "execution_count": null,
      "outputs": []
    },
    {
      "cell_type": "markdown",
      "metadata": {
        "id": "QhAGtAfYX2TI"
      },
      "source": [
        "##**2.6. Menggunakan Prefix pada Nama Kolom**\n",
        "\n",
        "```\n",
        "SELECT ms_produk.kode_produk FROM ms_Produk;\n",
        "```\n",
        "Lakukan manipulasi data dari dataset pada tautan berikut:\n",
        "\n",
        "\"https://github.com/rahmadsa/dataset/blob/main/spark/ms_produk.csv\"\n",
        "dengan query sebagai berikut."
      ]
    },
    {
      "cell_type": "code",
      "metadata": {
        "id": "jkj7uKLKX7tv"
      },
      "source": [
        "SELECT ms_produk.kode_produk FROM ms_Produk;"
      ],
      "execution_count": null,
      "outputs": []
    },
    {
      "cell_type": "markdown",
      "metadata": {
        "id": "9ukocsAUX8Xm"
      },
      "source": [
        "##**2.7. Menggunakan Alias pada Kolom**\n",
        "\n",
        "Lakukan manipulasi data dari dataset pada tautan berikut:\n",
        "\n",
        "\"https://github.com/rahmadsa/dataset/blob/main/spark/ms_produk.csv\"\n",
        "dengan query sebagai berikut.\n",
        "\n",
        "```\n",
        "SELECT no_urut AS nomor, nama_produk AS nama FROM ms_produk;\n",
        "```\n"
      ]
    },
    {
      "cell_type": "code",
      "metadata": {
        "id": "ttUDsRhYYEDp"
      },
      "source": [
        "SELECT no_urut AS nomor, nama_produk AS nama FROM ms_produk;"
      ],
      "execution_count": null,
      "outputs": []
    },
    {
      "cell_type": "markdown",
      "metadata": {
        "id": "81uJbm7KYNp1"
      },
      "source": [
        "##**2.8.Menggabungkan Prefix dan Alias**\n",
        "```\n",
        "SELECT ms_produk.harga AS harga_jual FROM ms_produk;\n",
        "```"
      ]
    },
    {
      "cell_type": "code",
      "metadata": {
        "id": "XgSuAyJSYVmt"
      },
      "source": [
        "SELECT ms_produk.harga AS harga_jual FROM ms_produk;"
      ],
      "execution_count": null,
      "outputs": []
    },
    {
      "cell_type": "markdown",
      "metadata": {
        "id": "zdcraRNUYWRz"
      },
      "source": [
        "##**2.9. Menggunakan Alias pada Tabel**\n",
        "\n",
        "```\n",
        "SELECT * FROM ms_produk t2;\n",
        "```"
      ]
    },
    {
      "cell_type": "code",
      "metadata": {
        "id": "YpzHoWwkYcGy"
      },
      "source": [
        "SELECT * FROM ms_produk t2;"
      ],
      "execution_count": null,
      "outputs": []
    },
    {
      "cell_type": "markdown",
      "metadata": {
        "id": "Ny_9pe9ZYcnv"
      },
      "source": [
        "##**2.10. Prefix dengan Alias Tabel**\n",
        "\n",
        "```\n",
        "SELECT t2.nama_produk, t2.harga FROM ms_produk t2\n",
        "```"
      ]
    },
    {
      "cell_type": "code",
      "metadata": {
        "id": "wX-Qe3bFYvbF"
      },
      "source": [
        "SELECT t2.nama_produk, t2.harga FROM ms_produk t2"
      ],
      "execution_count": null,
      "outputs": []
    },
    {
      "cell_type": "markdown",
      "metadata": {
        "id": "ZnGPkWvMY34A"
      },
      "source": [
        "##**2.11. Menggunakan WHERE**\n",
        "\n",
        "```\n",
        "SELECT * FROM ms_produk WHERE nama_produk='Tas Travel Organizer';\n",
        "```"
      ]
    },
    {
      "cell_type": "code",
      "metadata": {
        "id": "UXEdAOb5Y9TE"
      },
      "source": [
        "SELECT * FROM ms_produk WHERE nama_produk='Tas Travel Organizer';"
      ],
      "execution_count": null,
      "outputs": []
    },
    {
      "cell_type": "markdown",
      "metadata": {
        "id": "bVRieP3iY-Ge"
      },
      "source": [
        "#**2.12. Menggunakan Operand OR**\n",
        "\n",
        "```\n",
        "SELECT * FROM ms_produk WHERE nama_produk='Gantungan Kunci' OR nama_produk='Tas Travel Organizer'OR nama_produk='Flashdisk 64 GB' ;\n",
        "```\n"
      ]
    },
    {
      "cell_type": "code",
      "metadata": {
        "id": "8XlDWRP_ZF6n"
      },
      "source": [
        "SELECT * FROM ms_produk WHERE nama_produk='Gantungan Kunci' OR nama_produk='Tas Travel Organizer'OR nama_produk='Flashdisk 64 GB' ;"
      ],
      "execution_count": null,
      "outputs": []
    },
    {
      "cell_type": "markdown",
      "metadata": {
        "id": "MfahAXKOZG5X"
      },
      "source": [
        "##**2.13. Filter untuk Angka**\n",
        "```\n",
        "SELECT * FROM ms_produk WHERE harga>50000;\n",
        "```"
      ]
    },
    {
      "cell_type": "code",
      "metadata": {
        "id": "itEqOu4TZOdX"
      },
      "source": [
        "SELECT * FROM ms_produk WHERE harga>50000;"
      ],
      "execution_count": null,
      "outputs": []
    },
    {
      "cell_type": "markdown",
      "metadata": {
        "id": "9Pc_EZf3ZPGX"
      },
      "source": [
        "##**2.14. Menggunakan Operand AND**\n",
        "```\n",
        "SELECT * FROM ms_produk WHERE nama_produk='Gantungan Kunci' AND harga<50000;\n",
        "```"
      ]
    },
    {
      "cell_type": "code",
      "metadata": {
        "id": "QfOBh-qxZW_V"
      },
      "source": [
        "SELECT * FROM ms_produk WHERE nama_produk='Gantungan Kunci' AND harga<50000;"
      ],
      "execution_count": null,
      "outputs": []
    },
    {
      "cell_type": "markdown",
      "metadata": {
        "id": "0YTsTKtCZfbj"
      },
      "source": [
        "###**2.15. Proyek dari Cabang A**\n",
        "Lakukan manipulasi data dari dataset pada tautan berikut:\n",
        "\n",
        "\"https://github.com/rahmadsa/dataset/blob/main/spark/tr_penjualan.csv\"\n",
        "dengan query - query sebagai berikut.\n",
        "\n",
        "```\n",
        "SELECT kode_pelanggan, nama_produk, qty, harga, qty*harga AS total FROM tr_penjualan WHERE qty*harga>=100000 ORDER BY total DESC;```\n",
        "```"
      ]
    },
    {
      "cell_type": "code",
      "metadata": {
        "id": "bIkzQlNPZljb"
      },
      "source": [
        "SELECT kode_pelanggan, nama_produk, qty, harga, qty*harga AS total FROM tr_penjualan WHERE qty*harga>=100000 ORDER BY total DESC;"
      ],
      "execution_count": null,
      "outputs": []
    },
    {
      "cell_type": "markdown",
      "source": [
        "#**3. Manipulasi Data Dengan Fungsi**\n",
        "\n",
        "Fungsi dalam SQL adalah blok kode terstruktur yang melakukan tugas tertentu dan dapat dipanggil berkali-kali. Fungsi ini membantu menyederhanakan dan mengoptimalkan kueri SQL, serta memungkinkan penggunaan kembali kode"
      ],
      "metadata": {
        "id": "le_p_0gzi3WO"
      }
    },
    {
      "cell_type": "markdown",
      "metadata": {
        "id": "F-Ot8n3EaXhN"
      },
      "source": [
        "## **3.1. Fungsi Skalar Matematika - ABS()**\n",
        "\n",
        "Lakukan manipulasi data dari dataset pada tautan berikut:\n",
        "\n",
        "\"https://github.com/rahmadsa/dataset/blob/main/spark/students.csv\"\n",
        "dengan query sebagai berikut.\n",
        "\n",
        "```\n",
        "SELECT StudentID, FirstName, LastName, Semester1, Semester2, ABS(MarkGrowth) AS MarkGrowth\n",
        "FROM students;\n",
        "```"
      ]
    },
    {
      "cell_type": "code",
      "metadata": {
        "id": "NUKC3hRNZtSz"
      },
      "source": [
        "SELECT StudentID, FirstName, LastName, Semester1, Semester2, ABS(MarkGrowth) AS MarkGrowth\n",
        "FROM students;"
      ],
      "execution_count": null,
      "outputs": []
    },
    {
      "cell_type": "markdown",
      "metadata": {
        "id": "55BjkwOxbK2I"
      },
      "source": [
        "## **3.2. Fungsi Skalar Matematika - CEILING()**\n",
        "Lakukan manipulasi data dari dataset pada tautan berikut:\n",
        "\n",
        "\"https://github.com/rahmadsa/dataset/blob/main/spark/students.csv\"\n",
        "dengan query - query sebagai berikut.\n",
        "\n",
        "```\n",
        "SELECT StudentID, FirstName, LastName, CEILING(Semester1) AS Semester1, CEILING(Semester2) AS Semester2,MarkGrowth\n",
        "FROM students;\n",
        "```"
      ]
    },
    {
      "cell_type": "code",
      "metadata": {
        "id": "bife1IjdbUjn"
      },
      "source": [
        "SELECT StudentID, FirstName, LastName, CEILING(Semester1) AS Semester1, CEILING(Semester2) AS Semester2,MarkGrowth\n",
        "FROM students;"
      ],
      "execution_count": null,
      "outputs": []
    },
    {
      "cell_type": "markdown",
      "metadata": {
        "id": "nhl5KwjubV_8"
      },
      "source": [
        "##**3.3. Fungsi Skalar Matematika - FLOOR()**\n",
        "\n",
        "```\n",
        "SELECT StudentID, FirstName, LastName, FLOOR(Semester1) AS Semester1, FLOOR(Semester2) AS Semester2, MarkGrowth\n",
        "FROM students;\n",
        "```"
      ]
    },
    {
      "cell_type": "code",
      "metadata": {
        "id": "pjTrFEM-biv7"
      },
      "source": [
        "SELECT StudentID, FirstName, LastName, FLOOR(Semester1) AS Semester1, FLOOR(Semester2) AS Semester2, MarkGrowth\n",
        "FROM students;"
      ],
      "execution_count": null,
      "outputs": []
    },
    {
      "cell_type": "markdown",
      "metadata": {
        "id": "W9aeDPjbbjiV"
      },
      "source": [
        "##**3.4. Fungsi Skalar Matematika - ROUND()**\n",
        "\n",
        "```\n",
        "SELECT StudentID, FirstName, LastName, ROUND(Semester1,1) AS Semester1, ROUND(Semester2,0) AS Semester2, MarkGrowth\n",
        "FROM students;\n",
        "```"
      ]
    },
    {
      "cell_type": "code",
      "metadata": {
        "id": "VXq2xk_ibqwr"
      },
      "source": [
        "SELECT StudentID, FirstName, LastName, ROUND(Semester1,1) AS Semester1, ROUND(Semester2,0) AS Semester2, MarkGrowth\n",
        "FROM students;"
      ],
      "execution_count": null,
      "outputs": []
    },
    {
      "cell_type": "markdown",
      "metadata": {
        "id": "9q733lt9brdM"
      },
      "source": [
        "##**3.5. Fungsi Skalar Matematika - SQRT( )**\n",
        "```\n",
        "SELECT StudentID, FirstName, LastName, SQRT(Semester1) AS Semester1, Semester2, MarkGrowth\n",
        "FROM students;\n",
        "```"
      ]
    },
    {
      "cell_type": "code",
      "metadata": {
        "id": "66gBu3cfbzhP"
      },
      "source": [
        "SELECT StudentID, FirstName, LastName, SQRT(Semester1) AS Semester1, Semester2, MarkGrowth\n",
        "FROM students;"
      ],
      "execution_count": null,
      "outputs": []
    },
    {
      "cell_type": "markdown",
      "metadata": {
        "id": "4hAf3YTAcRLZ"
      },
      "source": [
        "##**3.6 Fungsi Text - CONCAT( )**\n",
        "```\n",
        "SELECT StudentID, CONCAT(FirstName, LastName) AS Name, Semester1, Semester2, MarkGrowth\n",
        "FROM students;\n",
        "```"
      ]
    },
    {
      "cell_type": "code",
      "metadata": {
        "id": "SrRmAJpKcWNh"
      },
      "source": [
        "SELECT StudentID, CONCAT(FirstName, LastName) AS Name, Semester1, Semester2, MarkGrowth\n",
        "FROM students;"
      ],
      "execution_count": null,
      "outputs": []
    },
    {
      "cell_type": "markdown",
      "metadata": {
        "id": "nzSDVy64cW1h"
      },
      "source": [
        "##**3.7. Fungsi Text - SUBSTRING_INDEX( )**\n",
        "```\n",
        "SELECT StudentID, SUBSTRING_INDEX(Email, '@', 1) AS Name\n",
        "FROM students;\n",
        "```"
      ]
    },
    {
      "cell_type": "code",
      "metadata": {
        "id": "IMn8Y4Tgcd2W"
      },
      "source": [
        "SELECT StudentID, SUBSTRING_INDEX(Email, '@', 1) AS Name\n",
        "FROM students;"
      ],
      "execution_count": null,
      "outputs": []
    },
    {
      "cell_type": "markdown",
      "metadata": {
        "id": "ua_rsBf6ceWd"
      },
      "source": [
        "##**3.8. Fungsi Text - SUBSTR( )**\n",
        "```\n",
        "SELECT StudentID, SUBSTR(FirstName, 2, 3) AS Initial\n",
        "FROM students;\n",
        "```"
      ]
    },
    {
      "cell_type": "code",
      "metadata": {
        "id": "zc2FCbpecl6J"
      },
      "source": [
        "SELECT StudentID, SUBSTR(FirstName, 2, 3) AS Initial\n",
        "FROM students;"
      ],
      "execution_count": null,
      "outputs": []
    },
    {
      "cell_type": "markdown",
      "metadata": {
        "id": "w2tDXCFYcnzX"
      },
      "source": [
        "## **3.9. Fungsi Text - LENGTH( )**\n",
        "```\n",
        "SELECT StudentID, FirstName, LENGTH(FirstName) AS Total_Char\n",
        "FROM students;\n",
        "```"
      ]
    },
    {
      "cell_type": "code",
      "metadata": {
        "id": "1uzit-w7cuZD"
      },
      "source": [
        "SELECT StudentID, FirstName, LENGTH(FirstName) AS Total_Char\n",
        "FROM students;"
      ],
      "execution_count": null,
      "outputs": []
    },
    {
      "cell_type": "markdown",
      "metadata": {
        "id": "NSgIfK_2cu9Z"
      },
      "source": [
        "##**3.10. Fungsi Text - REPLACE( )**\n",
        "```\n",
        "SELECT StudentID, Email, REPLACE(Email,'yahoo', 'gmail') AS New_Email\n",
        "FROM students;\n",
        "```"
      ]
    },
    {
      "cell_type": "code",
      "metadata": {
        "id": "WHCJ6HJjc1iC"
      },
      "source": [
        "SELECT StudentID, Email, REPLACE(Email,'yahoo', 'gmail') AS New_Email\n",
        "FROM students;"
      ],
      "execution_count": null,
      "outputs": []
    },
    {
      "cell_type": "markdown",
      "metadata": {
        "id": "QqUKBS-7diN1"
      },
      "source": [
        "## **3.11. Fungsi Aggregate - SUM()**\n",
        "```\n",
        "SELECT SUM(Semester1) AS Total_1, SUM(Semester2) AS Total_2\n",
        "FROM students;\n",
        "```"
      ]
    },
    {
      "cell_type": "code",
      "metadata": {
        "id": "Y8IYsYpxdnR6"
      },
      "source": [
        "SELECT SUM(Semester1) AS Total_1, SUM(Semester2) AS Total_2\n",
        "FROM students;"
      ],
      "execution_count": null,
      "outputs": []
    },
    {
      "cell_type": "markdown",
      "metadata": {
        "id": "WmEGkNnedn5h"
      },
      "source": [
        "## **3.12. Fungsi Aggregate - COUNT()**\n",
        "```\n",
        "SELECT COUNT(FirstName) AS Total_Student\n",
        "FROM students;\n",
        "```"
      ]
    },
    {
      "cell_type": "code",
      "metadata": {
        "id": "deevV4N6dudg"
      },
      "source": [
        "SELECT COUNT(FirstName) AS Total_Student\n",
        "FROM students;"
      ],
      "execution_count": null,
      "outputs": []
    },
    {
      "cell_type": "markdown",
      "metadata": {
        "id": "dH2Vhq-ndu6_"
      },
      "source": [
        "##**3.13. Fungsi Aggregate - AVG( )**\n",
        "```\n",
        "SELECT AVG(Semester1) AS AVG_1, AVG(Semester2) AS AVG_2\n",
        "FROM students;\n",
        "```"
      ]
    },
    {
      "cell_type": "code",
      "metadata": {
        "id": "X1K1582Td2DD"
      },
      "source": [
        "SELECT AVG(Semester1) AS AVG_1, AVG(Semester2) AS AVG_2\n",
        "FROM students;"
      ],
      "execution_count": null,
      "outputs": []
    },
    {
      "cell_type": "markdown",
      "metadata": {
        "id": "Gb_44upLqUFw"
      },
      "source": [
        "##**3.14. Tugas Praktek-2.1**\n",
        "```\n",
        "SELECT StudentID, FirstName, LastName, MOD(Semester1,2) AS Semester1 , Semester2, EXP(MarkGrowth) FROM students;\n",
        "```"
      ]
    },
    {
      "cell_type": "code",
      "metadata": {
        "id": "hLXl8EIrqUFy"
      },
      "source": [
        "SELECT"
      ],
      "execution_count": null,
      "outputs": []
    },
    {
      "cell_type": "markdown",
      "metadata": {
        "id": "S7gvtAeTpAr8"
      },
      "source": [
        "## **3.15. Tugas Praktek-2.2**\n",
        "```\n",
        "SELECT StudentID, UPPER(FirstName) AS FirstName, LOWER(LastName) AS LastName FROM students;\n",
        "```"
      ]
    },
    {
      "cell_type": "code",
      "metadata": {
        "id": "-gqfuGkQpAr9"
      },
      "source": [
        "SELECT"
      ],
      "execution_count": null,
      "outputs": []
    }
  ]
}
