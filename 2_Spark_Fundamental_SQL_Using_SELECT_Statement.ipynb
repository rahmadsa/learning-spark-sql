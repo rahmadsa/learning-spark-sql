{
  "nbformat": 4,
  "nbformat_minor": 0,
  "metadata": {
    "colab": {
      "private_outputs": true,
      "provenance": [],
      "toc_visible": true
    },
    "kernelspec": {
      "name": "python3",
      "display_name": "Python 3"
    },
    "language_info": {
      "name": "python"
    }
  },
  "cells": [
    {
      "cell_type": "markdown",
      "metadata": {
        "id": "gg2gR15SV6Wy"
      },
      "source": [
        "\n",
        "```\n",
        "\n",
        "```\n",
        "\n"
      ]
    },
    {
      "cell_type": "markdown",
      "source": [
        "#**A.Manipulasi Data Dengan SQL Apache Spark SELECT Statment**\n",
        "\n",
        "##**1. Getting Started with PySpark in Google Colab**\n",
        "\n",
        "*PySpark* adalah *interface Python* untuk *Apache Spark*. Penggunaan utama *PySpark* adalah untuk bekerja dengan data dalam Bigdata dan untuk membuat pipeline data.\n",
        "\n",
        "Walaupun *Apache Spark* mendudukung Big Data, sebagai awal pembelajaran tidak perlu menggunakan data yang besar untuk mendapatkan manfaat dari PySpark. Kita bisa temukan bahwa SparkSQL adalah tools yang bagus untuk melakukan analisis data. Penggunaan library Panda menjadi lambat dengan data yang besar\n",
        "\n",
        "Sumber tentang Apache Spark http://spark.apache.org/docs/latest/api/python/\n"
      ],
      "metadata": {
        "id": "Gun9kIlx5fJb"
      }
    },
    {
      "cell_type": "code",
      "source": [
        "#Init Hadoop & Spark\n",
        "#=====Begin\n",
        "\n",
        "#=====End"
      ],
      "metadata": {
        "id": "Zih7v4MGfwVW"
      },
      "execution_count": null,
      "outputs": []
    },
    {
      "cell_type": "markdown",
      "source": [
        "Lakukan manipulasi data dari dataset pada tautan berikut:\n",
        "\n",
        "\"https://github.com/rahmadsa/dataset/blob/main/ms_produk.csv?raw=true\"\n",
        "\n",
        "Dengan perintah - perintah SQL berikut pada platform Apache Spark SQL"
      ],
      "metadata": {
        "id": "EVz8iP8NexVj"
      }
    },
    {
      "cell_type": "markdown",
      "source": [
        "# [Mengambil Seluruh Kolom dalam suatu Tabel](https://#)\n",
        "\n",
        "\n",
        "```\n",
        "   select * from ms_produk;\n",
        "```"
      ],
      "metadata": {
        "id": "lW3RVRHheKc0"
      }
    },
    {
      "cell_type": "markdown",
      "metadata": {
        "id": "T85KXmWbWi2K"
      },
      "source": [
        "# [Mengambil Satu Kolom dari Tabel](https://academy.dqlab.id/main/livecode/213/385/1899?pr=0)"
      ]
    },
    {
      "cell_type": "code",
      "metadata": {
        "id": "li_1-u20WsMB"
      },
      "source": [
        "select nama_produk from ms_produk;"
      ],
      "execution_count": null,
      "outputs": []
    },
    {
      "cell_type": "code",
      "source": [],
      "metadata": {
        "id": "ceUZ7VfHeOTm"
      },
      "execution_count": null,
      "outputs": []
    },
    {
      "cell_type": "markdown",
      "metadata": {
        "id": "QkqC3qooWtR5"
      },
      "source": [
        "# [Mengambil Lebih dari Satu Kolom dari Tabel](http://#)\n",
        "```\n",
        "   SELECT nama_produk, harga FROM ms_produk;\n",
        "```"
      ]
    },
    {
      "cell_type": "code",
      "metadata": {
        "id": "ZFicYhsvXD_p"
      },
      "source": [
        "SELECT nama_produk, harga FROM ms_produk;"
      ],
      "execution_count": null,
      "outputs": []
    },
    {
      "cell_type": "markdown",
      "metadata": {
        "id": "um8Cvjh4XE1W"
      },
      "source": [
        "# [Membatasi Pengambilan Jumlah Row Data](https://#)"
      ]
    },
    {
      "cell_type": "code",
      "metadata": {
        "id": "f9GU6oSXXS3B"
      },
      "source": [
        "SELECT nama_produk, harga FROM ms_produk LIMIT 5;"
      ],
      "execution_count": null,
      "outputs": []
    },
    {
      "cell_type": "markdown",
      "metadata": {
        "id": "upxwIKK7XTk5"
      },
      "source": [
        "# [Penggunaan SELECT DISTINCT statement](https://#)"
      ]
    },
    {
      "cell_type": "code",
      "metadata": {
        "id": "OBVsZCx8XcKu"
      },
      "source": [
        "SELECT DISTINCT nama_customer, alamat FROM ms_pelanggan;"
      ],
      "execution_count": null,
      "outputs": []
    },
    {
      "cell_type": "markdown",
      "metadata": {
        "id": "QhAGtAfYX2TI"
      },
      "source": [
        "# [Menggunakan Prefix pada Nama Kolom](https://#)"
      ]
    },
    {
      "cell_type": "code",
      "metadata": {
        "id": "jkj7uKLKX7tv"
      },
      "source": [
        "SELECT ms_produk.kode_produk FROM ms_Produk;"
      ],
      "execution_count": null,
      "outputs": []
    },
    {
      "cell_type": "markdown",
      "metadata": {
        "id": "9ukocsAUX8Xm"
      },
      "source": [
        "# [Menggunakan Alias pada Kolom](https://academy.dqlab.id/main/livecode/213/386/1909?pr=0)"
      ]
    },
    {
      "cell_type": "code",
      "metadata": {
        "id": "ttUDsRhYYEDp"
      },
      "source": [
        "SELECT no_urut AS nomor, nama_produk AS nama FROM ms_produk;"
      ],
      "execution_count": null,
      "outputs": []
    },
    {
      "cell_type": "markdown",
      "metadata": {
        "id": "q-Hf3scPYEon"
      },
      "source": [
        "# [Menghilangkan Keyword 'AS'](https://#)"
      ]
    },
    {
      "cell_type": "code",
      "metadata": {
        "id": "F8bDxHt_YNKQ"
      },
      "source": [
        "SELECT no_urut nomor, nama_produk nama FROM ms_produk;"
      ],
      "execution_count": null,
      "outputs": []
    },
    {
      "cell_type": "markdown",
      "metadata": {
        "id": "81uJbm7KYNp1"
      },
      "source": [
        "# [Menggabungkan Prefix dan Alias](https://#)"
      ]
    },
    {
      "cell_type": "code",
      "metadata": {
        "id": "XgSuAyJSYVmt"
      },
      "source": [
        "SELECT ms_produk.harga AS harga_jual FROM ms_produk;"
      ],
      "execution_count": null,
      "outputs": []
    },
    {
      "cell_type": "markdown",
      "metadata": {
        "id": "zdcraRNUYWRz"
      },
      "source": [
        "# [Menggunakan Alias pada Tabel](https://#)"
      ]
    },
    {
      "cell_type": "code",
      "metadata": {
        "id": "YpzHoWwkYcGy"
      },
      "source": [
        "SELECT * FROM ms_produk t2;"
      ],
      "execution_count": null,
      "outputs": []
    },
    {
      "cell_type": "markdown",
      "metadata": {
        "id": "Ny_9pe9ZYcnv"
      },
      "source": [
        "# [Prefix dengan Alias Tabel](https://#)"
      ]
    },
    {
      "cell_type": "code",
      "metadata": {
        "id": "wX-Qe3bFYvbF"
      },
      "source": [
        "SELECT t2.nama_produk, t2.harga FROM ms_produk t2"
      ],
      "execution_count": null,
      "outputs": []
    },
    {
      "cell_type": "markdown",
      "metadata": {
        "id": "ZnGPkWvMY34A"
      },
      "source": [
        "# [Menggunakan WHERE](https://#)"
      ]
    },
    {
      "cell_type": "code",
      "metadata": {
        "id": "UXEdAOb5Y9TE"
      },
      "source": [
        "SELECT * FROM ms_produk WHERE nama_produk='Tas Travel Organizer';"
      ],
      "execution_count": null,
      "outputs": []
    },
    {
      "cell_type": "markdown",
      "metadata": {
        "id": "bVRieP3iY-Ge"
      },
      "source": [
        "# [Menggunakan Operand OR](https://#)\n",
        "---\n",
        "\n",
        "\n",
        "---\n",
        "\n"
      ]
    },
    {
      "cell_type": "code",
      "metadata": {
        "id": "8XlDWRP_ZF6n"
      },
      "source": [
        "SELECT * FROM ms_produk WHERE nama_produk='Gantungan Kunci' OR nama_produk='Tas Travel Organizer'OR nama_produk='Flashdisk 64 GB' ;"
      ],
      "execution_count": null,
      "outputs": []
    },
    {
      "cell_type": "markdown",
      "metadata": {
        "id": "MfahAXKOZG5X"
      },
      "source": [
        "# [Filter untuk Angka](https://#)"
      ]
    },
    {
      "cell_type": "code",
      "metadata": {
        "id": "itEqOu4TZOdX"
      },
      "source": [
        "SELECT * FROM ms_produk WHERE harga>50000;"
      ],
      "execution_count": null,
      "outputs": []
    },
    {
      "cell_type": "markdown",
      "metadata": {
        "id": "9Pc_EZf3ZPGX"
      },
      "source": [
        "# [Menggunakan Operand AND](https://#)"
      ]
    },
    {
      "cell_type": "code",
      "metadata": {
        "id": "QfOBh-qxZW_V"
      },
      "source": [
        "SELECT * FROM ms_produk WHERE nama_produk='Gantungan Kunci' AND harga<50000;"
      ],
      "execution_count": null,
      "outputs": []
    },
    {
      "cell_type": "markdown",
      "metadata": {
        "id": "0YTsTKtCZfbj"
      },
      "source": [
        "# [Proyek dari Cabang A](https://#)"
      ]
    },
    {
      "cell_type": "code",
      "metadata": {
        "id": "bIkzQlNPZljb"
      },
      "source": [
        "SELECT kode_pelanggan, nama_produk, qty, harga, qty*harga AS total FROM tr_penjualan WHERE qty*harga>=100000 ORDER BY total DESC;"
      ],
      "execution_count": null,
      "outputs": []
    }
  ]
}