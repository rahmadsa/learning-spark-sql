{
  "nbformat": 4,
  "nbformat_minor": 0,
  "metadata": {
    "colab": {
      "provenance": []
    },
    "kernelspec": {
      "name": "python3",
      "display_name": "Python 3"
    },
    "language_info": {
      "name": "python"
    }
  },
  "cells": [
    {
      "cell_type": "code",
      "execution_count": null,
      "metadata": {
        "id": "V7rYoDg4JE4v"
      },
      "outputs": [],
      "source": []
    },
    {
      "cell_type": "markdown",
      "source": [
        "#**C.Manipulasi Data Dengan Apache Spark SQL**\n",
        "##**[GROUP BY, INNER JOIN & UNION ]**\n",
        "\n",
        "##**1. Hadoop & PySpark initialization di Google Colab**\n",
        "\n",
        "*PySpark* adalah *interface Python* untuk *Apache Spark*. Penggunaan utama *PySpark* adalah untuk bekerja dengan data dalam Bigdata dan untuk membuat pipeline data.\n",
        "\n",
        "Walaupun *Apache Spark* mendudukung Big Data, sebagai awal pembelajaran tidak perlu menggunakan data yang besar untuk mendapatkan manfaat dari PySpark. Kita bisa temukan bahwa SparkSQL adalah tools yang bagus untuk melakukan analisis data. Penggunaan library Panda menjadi lambat dengan data yang besar Sumber tentang Apache Spark http://spark.apache.org/docs/latest/api/python/\n",
        "\n"
      ],
      "metadata": {
        "id": "Gun9kIlx5fJb"
      }
    },
    {
      "cell_type": "code",
      "source": [
        "#Init Hadoop & Spark\n",
        "#=====Begin\n",
        "\n",
        "#=====End"
      ],
      "metadata": {
        "id": "Zih7v4MGfwVW"
      },
      "execution_count": null,
      "outputs": []
    },
    {
      "cell_type": "markdown",
      "source": [
        "Lakukan manipulasi data dari dataset pada tautan berikut:\n",
        "\n",
        "\"https://github.com/rahmadsa/dataset/blob/main/ms_produk.csv\"\n",
        "\n",
        "Dengan perintah - perintah SQL berikut pada platform Apache Spark SQL"
      ],
      "metadata": {
        "id": "EVz8iP8NexVj"
      }
    },
    {
      "cell_type": "markdown",
      "source": [
        "#**2. Manipulasi Data Dengan GROUP BY Statment**\n"
      ],
      "metadata": {
        "id": "f10Y9Y_hik2K"
      }
    },
    {
      "cell_type": "markdown",
      "source": [
        "Lakukan manipulasi data dari dataset pada tautan berikut:\n",
        "\n",
        "\"https://github.com/rahmadsa/dataset/blob/main/ms_produk.csv?raw=true\"\n",
        "\n",
        "Dengan perintah - perintah SQL berikut pada platform Apache Spark SQL"
      ],
      "metadata": {
        "id": "VW-CS9nnqtXa"
      }
    },
    {
      "cell_type": "markdown",
      "metadata": {
        "id": "lEyZ7EXNeDBG"
      },
      "source": [
        "##2.1. [Group by Single Column](https://#)\n",
        "```\n",
        "SELECT province,\n",
        "COUNT(DISTINCT order_id) AS total_order,\n",
        "SUM(item_price) AS total_price\n",
        "FROM sales_retail_2019\n",
        "GROUP BY province;\n",
        "```"
      ]
    },
    {
      "cell_type": "code",
      "metadata": {
        "id": "SIdHuMhceRlR"
      },
      "source": [
        "SELECT province,\n",
        "COUNT(DISTINCT order_id) AS total_order,\n",
        "SUM(item_price) AS total_price\n",
        "FROM sales_retail_2019\n",
        "GROUP BY province;"
      ],
      "execution_count": null,
      "outputs": []
    },
    {
      "cell_type": "markdown",
      "metadata": {
        "id": "TIc9kZ01eSHx"
      },
      "source": [
        "# 2.2. [Group by Multiple Column](https://#)\n",
        "```\n",
        "SELECT province,brand,\n",
        "COUNT(DISTINCT order_id) AS total_order,\n",
        "SUM(Item_price) AS total_price FROM sales_retail_2019\n",
        "GROUP BY province, brand;\n",
        "```"
      ]
    },
    {
      "cell_type": "code",
      "metadata": {
        "id": "aeQMc_uKeZWp"
      },
      "source": [
        "SELECT;"
      ],
      "execution_count": null,
      "outputs": []
    },
    {
      "cell_type": "markdown",
      "metadata": {
        "id": "wCqCLUJ6eZ_K"
      },
      "source": [
        "## 2.3. [Fungsi Aggregate dengan Grouping](https://#)\n",
        "```\n",
        "SELECT province,\n",
        "COUNT(DISTINCT order_id) AS total_unique_order,\n",
        "SUM(item_price) AS revenue\n",
        "FROM sales_retail_2019\n",
        "GROUP BY province;\n",
        "```"
      ]
    },
    {
      "cell_type": "code",
      "metadata": {
        "id": "S0sYaHKgegn4"
      },
      "source": [
        "SELECT ;"
      ],
      "execution_count": null,
      "outputs": []
    },
    {
      "cell_type": "markdown",
      "source": [
        "#**3. Manipulasi Data Dengan INNER JOIN**\n",
        "\n",
        "Fungsi dalam SQL adalah blok kode terstruktur yang melakukan tugas tertentu dan dapat dipanggil berkali-kali. Fungsi ini membantu menyederhanakan dan mengoptimalkan kueri SQL, serta memungkinkan penggunaan kembali kode"
      ],
      "metadata": {
        "id": "le_p_0gzi3WO"
      }
    },
    {
      "cell_type": "markdown",
      "source": [
        "Lakukan manipulasi data dari dataset pada tautan berikut:\n",
        "\n",
        "\"https://github.com/rahmadsa/dataset/blob/main/ms_produk.csv?raw=true\"\n",
        "\n",
        "Dengan perintah - perintah SQL berikut pada platform Apache Spark SQL"
      ],
      "metadata": {
        "id": "DlyS4fkMqyQN"
      }
    },
    {
      "cell_type": "markdown",
      "metadata": {
        "id": "3YXXdYJlgO48"
      },
      "source": [
        "##3.1. [SELECT Beberapa Tabel Tanpa JOIN Statment](https://#)\n",
        "```\n",
        "SELECT * FROM ms_item_kategori;\n",
        "SELECT * FROM ms_item_warna ;\n",
        "```"
      ]
    },
    {
      "cell_type": "code",
      "metadata": {
        "id": "YUIjrEFdgFMF"
      },
      "source": [
        "SELECT ;"
      ],
      "execution_count": null,
      "outputs": []
    },
    {
      "cell_type": "markdown",
      "metadata": {
        "id": "rkcXjtElh0hI"
      },
      "source": [
        "## 3.2. [Menggabungkan Tabel dengan Key Columns](https://#)\n",
        "```\n",
        "SELECT * FROM ms_item_kategori, ms_item_warna\n",
        "WHERE nama_barang = nama_item;\n",
        "```"
      ]
    },
    {
      "cell_type": "code",
      "metadata": {
        "id": "ORFoFk54h7eA"
      },
      "source": [
        "SELECT ;"
      ],
      "execution_count": null,
      "outputs": []
    },
    {
      "cell_type": "markdown",
      "metadata": {
        "id": "BDWdyBZnh8Mm"
      },
      "source": [
        "##3.3 [Bagaimana jika urutan Tabel diubah?](https://#)\n",
        "```\n",
        "SELECT * FROM ms_item_warna, ms_item_kategori\n",
        "WHERE nama_barang=nama_item;\n",
        "```"
      ]
    },
    {
      "cell_type": "code",
      "metadata": {
        "id": "MymhZPPbiFJP"
      },
      "source": [
        "SELECT ;"
      ],
      "execution_count": null,
      "outputs": []
    },
    {
      "cell_type": "markdown",
      "metadata": {
        "id": "rlbZXaqjiF57"
      },
      "source": [
        "##3.4. [Menggunakan Prefix Nama Tabel](https://#)\n",
        "```\n",
        "  SELECT ms_item_kategori.*, ms_item_warna.*\n",
        "  FROM ms_item_warna, ms_item_kategori\n",
        "  WHERE nama_barang=nama_item;\n",
        "```"
      ]
    },
    {
      "cell_type": "code",
      "metadata": {
        "id": "fORP_llQiOEr"
      },
      "source": [
        "SELECT;"
      ],
      "execution_count": null,
      "outputs": []
    },
    {
      "cell_type": "markdown",
      "metadata": {
        "id": "1bGbZOkYiOeC"
      },
      "source": [
        "##3.5. [Penggabungan Tanpa Kondisi](https://#)\n",
        "```\n",
        "SELECT * FROM ms_item_kategori, ms_item_warna;\n",
        "```"
      ]
    },
    {
      "cell_type": "code",
      "metadata": {
        "id": "8x2LSNQOiX-h"
      },
      "source": [
        "SELECT * FROM ms_item_kategori, ms_item_warna;"
      ],
      "execution_count": null,
      "outputs": []
    },
    {
      "cell_type": "markdown",
      "metadata": {
        "id": "txt65Cekjeqd"
      },
      "source": [
        "## 3.6. [tabel tr_penjualan dan tabel ms_produk](https://#)\n",
        "```\n",
        "SELECT * FROM tr_penjualan;\n",
        "SELECT * FROM ms_produk;\n",
        "```"
      ]
    },
    {
      "cell_type": "code",
      "metadata": {
        "id": "zWBdUtszjmIP"
      },
      "source": [
        "SELECT ;"
      ],
      "execution_count": null,
      "outputs": []
    },
    {
      "cell_type": "markdown",
      "source": [
        "#**4. Manipulasi Data Dengan UNION**\n",
        "\n",
        "Fungsi dalam SQL adalah blok kode terstruktur yang melakukan tugas tertentu dan dapat dipanggil berkali-kali. Fungsi ini membantu menyederhanakan dan mengoptimalkan kueri SQL, serta memungkinkan penggunaan kembali kode"
      ],
      "metadata": {
        "id": "Wkv38SuNM5Mq"
      }
    },
    {
      "cell_type": "markdown",
      "source": [
        "Lakukan manipulasi data dari dataset pada tautan berikut:\n",
        "\n",
        "\"https://github.com/rahmadsa/dataset/blob/main/ms_produk.csv?raw=true\"\n",
        "\n",
        "Dengan perintah - perintah SQL berikut pada platform Apache Spark SQL"
      ],
      "metadata": {
        "id": "fd0_Nlzyq2UL"
      }
    },
    {
      "cell_type": "markdown",
      "metadata": {
        "id": "JIva8RZ1kao2"
      },
      "source": [
        "##4.1. [Tabel yang Akan Digabungkan](https://#)\n",
        "```\n",
        "SELECT * FROM tabel_a;\n",
        "SELECT * FROM tabel_b;\n",
        "```"
      ]
    },
    {
      "cell_type": "code",
      "metadata": {
        "id": "CZiveLjrkgv3"
      },
      "source": [
        "SELECT ;"
      ],
      "execution_count": null,
      "outputs": []
    },
    {
      "cell_type": "markdown",
      "metadata": {
        "id": "U7AwasjlkhWR"
      },
      "source": [
        "## 4.2. [Menggunakan UNION](https://#)\n",
        "```\n",
        "SELECT * FROM tabel_A\n",
        "UNION\n",
        "SELECT * FROM tabel_B;\n",
        "```"
      ]
    },
    {
      "cell_type": "code",
      "metadata": {
        "id": "VysVWpNvkoDF"
      },
      "source": [
        "SELECT ;"
      ],
      "execution_count": null,
      "outputs": []
    },
    {
      "cell_type": "markdown",
      "metadata": {
        "id": "z3PBvmx2kojR"
      },
      "source": [
        "##4.3 [Menggunakan UNION dengan Klausa WHERE](https://#)\n",
        "```\n",
        "SELECT * FROM tabel_A\n",
        "WHERE kode_pelanggan='labcust03'\n",
        "UNION\n",
        "SELECT * FROM tabel_B\n",
        "WHERE kode_pelanggan='labcust03';\n",
        "```"
      ]
    },
    {
      "cell_type": "code",
      "metadata": {
        "id": "LGNz1sz0lTwR"
      },
      "source": [
        "SELECT ;"
      ],
      "execution_count": null,
      "outputs": []
    },
    {
      "cell_type": "markdown",
      "metadata": {
        "id": "CdzdYRYKlUTN"
      },
      "source": [
        "##4.4. [Menggunakan UNION dan Menyelaraskan Kolom-Kolomnya](https://#)\n",
        "```\n",
        "SELECT CustomerName, ContactName, City, PostalCode\n",
        "FROM Customers\n",
        "UNION\n",
        "SELECT SupplierName, ContactName, City, PostalCode\n",
        "FROM Suppliers;\n",
        "```"
      ]
    },
    {
      "cell_type": "code",
      "metadata": {
        "id": "-65CicrRleaw"
      },
      "source": [
        "SELECT ;"
      ],
      "execution_count": null,
      "outputs": []
    },
    {
      "cell_type": "markdown",
      "source": [
        "#**5. Tugas**\n",
        "\n",
        "Fungsi dalam SQL adalah blok kode terstruktur yang melakukan tugas tertentu dan dapat dipanggil berkali-kali."
      ],
      "metadata": {
        "id": "l0j-SQm3Ns5C"
      }
    },
    {
      "cell_type": "markdown",
      "source": [
        "Lakukan manipulasi data dari dataset pada tautan berikut:\n",
        "\n",
        "\"https://github.com/rahmadsa/dataset/blob/main/ms_produk.csv?raw=true\"\n",
        "\n",
        "Dengan perintah - perintah SQL berikut pada platform Apache Spark SQL"
      ],
      "metadata": {
        "id": "6Qz3kM0Vq59h"
      }
    },
    {
      "cell_type": "markdown",
      "metadata": {
        "id": "0SFfL3rPehIh"
      },
      "source": [
        "## 5.1 [Tugas Praktek-3.2](https://#)\n",
        "```\n",
        "SELECT MONTH(order_date) AS order_month, SUM(item_price) AS total_price,\n",
        "CASE\n",
        "    WHEN SUM(item_price) >= 30000000000 THEN 'Target Achieved'\n",
        "    WHEN SUM(item_price) <= 25000000000 THEN 'Less Performed'\n",
        "    ELSE 'Follow Up'\n",
        "END as remark\n",
        "FROM sales_retail_2019\n",
        "GROUP BY MONTH(order_date);\n",
        "```"
      ]
    },
    {
      "cell_type": "code",
      "metadata": {
        "id": "w9eZBEdQeqRC"
      },
      "source": [
        "SELECT ;"
      ],
      "execution_count": null,
      "outputs": []
    },
    {
      "cell_type": "markdown",
      "metadata": {
        "id": "7_TClCawevO_"
      },
      "source": [
        "##5.2. [Proyek Pekerjaan - Analisis Penjualan Part 1](https://#)\n",
        "-- a. Total jumlah seluruh penjualan (total/revenue).\n",
        "```\n",
        "SELECT SUM(total) as total\n",
        "FROM tr_penjualan;\n",
        "```\n",
        "-- b. Total quantity seluruh produk yang terjual.\n",
        "```\n",
        "SELECT SUM(qty) as qty\n",
        "FROM tr_penjualan;\n",
        "```\n",
        "-- c. Total quantity dan total revenue untuk setiap kode produk.\n",
        "```\n",
        "SELECT kode_produk, SUM(qty) as qty, SUM(total) as total\n",
        "FROM tr_penjualan\n",
        "GROUP BY kode_produk;\n",
        "```"
      ]
    },
    {
      "cell_type": "code",
      "metadata": {
        "id": "2BbHlJ-xe1FI"
      },
      "source": [
        "# a. Total jumlah seluruh penjualan (total/revenue).\n",
        "# b. Total quantity seluruh produk yang terjual.\n",
        "# c. Total quantity dan total revenue untuk setiap kode produk.\n"
      ],
      "execution_count": null,
      "outputs": []
    },
    {
      "cell_type": "markdown",
      "metadata": {
        "id": "zyNpuIZte2HB"
      },
      "source": [
        "##5.3 [Proyek Pekerjaan - Analisis Penjualan Part 2](https://#)\n",
        "-- d. Rata - Rata total belanja per kode pelanggan.\n",
        "```\n",
        "SELECT kode_pelanggan, AVG(total) AS avg_total\n",
        "FROM tr_penjualan\n",
        "GROUP BY kode_pelanggan;\n",
        "```\n",
        "-- e. Selain itu,  jangan lupa untuk menambahkan kolom baru\n",
        "dengan nama ‘kategori’ yang mengkategorikan total/revenue ke dalam\n",
        "3 kategori: High: > 300K; Medium: 100K - 300K; Low: <100K.\n",
        "```\n",
        "SELECT kode_transaksi,kode_pelanggan,no_urut,kode_produk,nama_produk,qty,total,\n",
        "CASE\n",
        "    WHEN total > 300000 THEN 'High'\n",
        "    WHEN total < 100000 THEN 'Low'\n",
        "    ELSE 'Medium'\n",
        "END as kategori\n",
        "FROM tr_penjualan;\n",
        "```"
      ]
    },
    {
      "cell_type": "code",
      "metadata": {
        "id": "xYtO0hsIfSWZ"
      },
      "source": [
        "#-- d. Rata - Rata total belanja per kode pelanggan.\n",
        "\n",
        "#-- e Selain itu,  jangan lupa untuk menambahkan kolom baru\n"
      ],
      "execution_count": null,
      "outputs": []
    },
    {
      "cell_type": "markdown",
      "metadata": {
        "id": "LBCt2qCsjYXj"
      },
      "source": [
        "##5.4. [Tugas Praktek: Menggunakan INNER JOIN (1/3)](https://academy.dqlab.id/main/livecode/244/407/2051?pr=0)\n",
        "```\n",
        "SELECT * FROM ms_item_warna\n",
        "INNER JOIN ms_item_kategori\n",
        "ON ms_item_warna.nama_barang = ms_item_kategori.nama_item;\n",
        "```"
      ]
    },
    {
      "cell_type": "code",
      "metadata": {
        "id": "EcnnS8J-jeC1"
      },
      "source": [
        "SELECT ;"
      ],
      "execution_count": null,
      "outputs": []
    },
    {
      "cell_type": "markdown",
      "metadata": {
        "id": "mTovJYQjjmw4"
      },
      "source": [
        "## 5.5. [Tugas Praktek: Menggunakan INNER JOIN (2/3)](https://#)\n",
        "```\n",
        "SELECT *\n",
        "FROM tr_penjualan\n",
        "INNER JOIN ms_produk\n",
        "ON tr_penjualan.kode_produk = ms_produk.kode_produk;\n",
        "```"
      ]
    },
    {
      "cell_type": "code",
      "metadata": {
        "id": "SF181TK0jutl"
      },
      "source": [
        "SELECT ;"
      ],
      "execution_count": null,
      "outputs": []
    },
    {
      "cell_type": "markdown",
      "metadata": {
        "id": "bz9kpBptjvdL"
      },
      "source": [
        "##5.6. [Tugas Praktek: Menggunakan INNER JOIN (2/3)](https://#)\n",
        "```\n",
        "SELECT *\n",
        "FROM tr_penjualan\n",
        "INNER JOIN ms_produk\n",
        "ON tr_penjualan.kode_produk = ms_produk.kode_produk;\n",
        "```"
      ]
    },
    {
      "cell_type": "code",
      "metadata": {
        "id": "1b2AC60yj3lg"
      },
      "source": [
        "SELECT ;"
      ],
      "execution_count": null,
      "outputs": []
    },
    {
      "cell_type": "markdown",
      "metadata": {
        "id": "vd6n8Jpuj4Qc"
      },
      "source": [
        "##5.7 [Tugas Praktek: Menggunakan INNER JOIN (3/3)](https://#)"
      ]
    },
    {
      "cell_type": "code",
      "metadata": {
        "id": "ruFdqmuckADA"
      },
      "source": [
        "SELECT tr_penjualan.kode_transaksi,\ttr_penjualan.kode_pelanggan,tr_penjualan.kode_produk,ms_produk.nama_produk,ms_produk.harga,tr_penjualan.qty,ms_produk.harga * tr_penjualan.qty AS total\n",
        "FROM tr_penjualan\n",
        "INNER JOIN ms_produk\n",
        "ON tr_penjualan.kode_produk = ms_produk.kode_produk"
      ],
      "execution_count": null,
      "outputs": []
    }
  ]
}