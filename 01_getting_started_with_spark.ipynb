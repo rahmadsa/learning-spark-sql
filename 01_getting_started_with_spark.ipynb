{
 "cells": [
  {
   "cell_type": "markdown",
   "metadata": {},
   "source": [
    "# **A. Manipulasi Data Dengan Apache Spark**",
    "\n",
    "##Getting Started with PySpark in Google Colab\n",
    "\n",
    "PySpark adalah interface Python untuk Apache Spark. Penggunaan utama PySpark adalah untuk bekerja dengan data dalam Bigdata dan untuk membuat pipeline data.\n",
    "\n",
    "Walaupun Apache Spark mendudukung Big Data, sebagai awal pembelajaran tidak perlu menggunakan data yang besar untuk mendapatkan manfaat dari PySpark. Kita bisa temukan bahwa SparkSQL adalah tools yang bagus untuk melakukan analisis data. Penggunaan library Panda menjadi lambat dengan data yang besar\n",
    "\n",
    "Sumber tentang Apache Spark http://spark.apache.org/docs/latest/api/python/"
        
   ]
  }
 ],
 "metadata": {
  "language_info": {
   "name": "python"
  }
 },
 "nbformat": 4,
 "nbformat_minor": 2
}
